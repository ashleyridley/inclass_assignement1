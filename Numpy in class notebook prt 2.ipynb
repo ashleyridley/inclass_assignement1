{
 "cells": [
  {
   "cell_type": "markdown",
   "id": "7b8e8c07",
   "metadata": {},
   "source": [
    "# Numpy- inclass assignment 2 (Group of two)\n",
    "## Submit your work using GitHub to Moodle"
   ]
  },
  {
   "cell_type": "markdown",
   "id": "4a478332",
   "metadata": {},
   "source": [
    "### Generate a random numpy array for Month of October where the highest temperature varies between 48-81 degree Farenheit\n",
    "- Keep in mind the length of the month\n",
    "- set a random seed of 1 for regenerate\n",
    "- Display the numpy array named `Temp_O` and find out the minimum and maximum temperature of month"
   ]
  },
  {
   "cell_type": "code",
   "execution_count": 4,
   "id": "36648a67",
   "metadata": {},
   "outputs": [],
   "source": [
    "import numpy as np\n",
    "np.random.seed(1)\n",
    "Temp_0=np.random.randint(48,81, size=31)"
   ]
  },
  {
   "cell_type": "code",
   "execution_count": 5,
   "id": "b476b0c6",
   "metadata": {},
   "outputs": [
    {
     "name": "stdout",
     "output_type": "stream",
     "text": [
      "min temp 48\n"
     ]
    }
   ],
   "source": [
    "print(\"min temp\", Temp_0.min())"
   ]
  },
  {
   "cell_type": "code",
   "execution_count": 6,
   "id": "2231f10d",
   "metadata": {},
   "outputs": [
    {
     "name": "stdout",
     "output_type": "stream",
     "text": [
      "max temp 80\n"
     ]
    }
   ],
   "source": [
    "print(\"max temp\", Temp_0.max())"
   ]
  },
  {
   "cell_type": "markdown",
   "id": "faba3521",
   "metadata": {},
   "source": [
    "### Load the numpy file contains the temperature of Month of December and store it to a variable named Temp_D"
   ]
  },
  {
   "cell_type": "code",
   "execution_count": 7,
   "id": "80b7bf19",
   "metadata": {},
   "outputs": [],
   "source": [
    "Temp_D=np.load(\"Temp_December.npy\")"
   ]
  },
  {
   "cell_type": "code",
   "execution_count": null,
   "id": "5000e0af",
   "metadata": {},
   "outputs": [],
   "source": []
  },
  {
   "cell_type": "markdown",
   "id": "641559dd",
   "metadata": {},
   "source": [
    "### Compare two numpy array - Temp_O and Temp_D\n",
    "- Elementwise\n",
    "- Arraywise"
   ]
  },
  {
   "cell_type": "code",
   "execution_count": 8,
   "id": "993d3d61",
   "metadata": {},
   "outputs": [
    {
     "data": {
      "text/plain": [
       "array([ True,  True,  True,  True,  True,  True,  True,  True,  True,\n",
       "        True,  True,  True,  True,  True,  True,  True,  True,  True,\n",
       "        True,  True,  True,  True,  True,  True,  True,  True,  True,\n",
       "        True,  True,  True,  True])"
      ]
     },
     "execution_count": 8,
     "metadata": {},
     "output_type": "execute_result"
    }
   ],
   "source": [
    "#element wise\n",
    "Temp_0>Temp_D"
   ]
  },
  {
   "cell_type": "code",
   "execution_count": 9,
   "id": "765cb9e3",
   "metadata": {},
   "outputs": [
    {
     "data": {
      "text/plain": [
       "array([False, False, False, False, False, False, False, False, False,\n",
       "       False, False, False, False, False, False, False, False, False,\n",
       "       False, False, False, False, False, False, False, False, False,\n",
       "       False, False, False, False])"
      ]
     },
     "execution_count": 9,
     "metadata": {},
     "output_type": "execute_result"
    }
   ],
   "source": [
    "#array wise\n",
    "Temp_0==Temp_D"
   ]
  },
  {
   "cell_type": "code",
   "execution_count": 10,
   "id": "d7c75980",
   "metadata": {},
   "outputs": [
    {
     "data": {
      "text/plain": [
       "False"
      ]
     },
     "execution_count": 10,
     "metadata": {},
     "output_type": "execute_result"
    }
   ],
   "source": [
    "np.array_equal(Temp_0, Temp_D)"
   ]
  },
  {
   "cell_type": "markdown",
   "id": "7b1e5fc9",
   "metadata": {},
   "source": [
    "### Find out the:\n",
    "- Average temperature\n",
    "- Standard deviation\n",
    "- Varience\n",
    "- Minimum temp\n",
    "- Maximum temp\n",
    "- Median\n",
    "- Inter Quartile Range\n",
    "#### for Month of December"
   ]
  },
  {
   "cell_type": "code",
   "execution_count": 11,
   "id": "4c038182",
   "metadata": {},
   "outputs": [
    {
     "name": "stdout",
     "output_type": "stream",
     "text": [
      "Min temp_D:  7\n"
     ]
    }
   ],
   "source": [
    "print(\"Min temp_D: \", Temp_D.min())"
   ]
  },
  {
   "cell_type": "code",
   "execution_count": 12,
   "id": "5a9a320a",
   "metadata": {},
   "outputs": [
    {
     "name": "stdout",
     "output_type": "stream",
     "text": [
      "Max temp_D:  57\n"
     ]
    }
   ],
   "source": [
    "print(\"Max temp_D: \", Temp_D.max())"
   ]
  },
  {
   "cell_type": "code",
   "execution_count": 13,
   "id": "a74db84c",
   "metadata": {},
   "outputs": [
    {
     "name": "stdout",
     "output_type": "stream",
     "text": [
      "Mean temp_D:  28.35483870967742\n"
     ]
    }
   ],
   "source": [
    "print(\"Mean temp_D: \", Temp_D.mean())"
   ]
  },
  {
   "cell_type": "code",
   "execution_count": 14,
   "id": "a583a04c",
   "metadata": {},
   "outputs": [
    {
     "name": "stdout",
     "output_type": "stream",
     "text": [
      "Standard deviation temp_D:  14.844458914283686\n"
     ]
    }
   ],
   "source": [
    "print(\"Standard deviation temp_D: \", Temp_D.std())"
   ]
  },
  {
   "cell_type": "code",
   "execution_count": 15,
   "id": "525eaad3",
   "metadata": {},
   "outputs": [
    {
     "name": "stdout",
     "output_type": "stream",
     "text": [
      "Variance temp_D:  220.3579604578564\n"
     ]
    }
   ],
   "source": [
    "print(\"Variance temp_D: \", Temp_D.var())"
   ]
  },
  {
   "cell_type": "code",
   "execution_count": 16,
   "id": "f68cf92f",
   "metadata": {},
   "outputs": [
    {
     "name": "stdout",
     "output_type": "stream",
     "text": [
      "25th percentile:    17.0\n"
     ]
    }
   ],
   "source": [
    "print(\"25th percentile:\", np.percentile(Temp_D, 25))"
   ]
  },
  {
   "cell_type": "code",
   "execution_count": 17,
   "id": "bd3f4542",
   "metadata": {},
   "outputs": [
    {
     "name": "stdout",
     "output_type": "stream",
     "text": [
      "Median:  25.0\n"
     ]
    }
   ],
   "source": [
    "print(\"Median: \", np.median(Temp_D))"
   ]
  },
  {
   "cell_type": "code",
   "execution_count": 20,
   "id": "2582427f",
   "metadata": {},
   "outputs": [
    {
     "name": "stdout",
     "output_type": "stream",
     "text": [
      "75th percentile:  40.0\n"
     ]
    }
   ],
   "source": [
    "print(\"75th percentile: \", np.percentile(Temp_D, 75))"
   ]
  },
  {
   "cell_type": "code",
   "execution_count": 19,
   "id": "a0a684f2",
   "metadata": {},
   "outputs": [
    {
     "name": "stdout",
     "output_type": "stream",
     "text": [
      "Inter Quartile Range:  23.0\n"
     ]
    }
   ],
   "source": [
    "print(\"Inter Quartile Range: \",np.percentile(Temp_D, 75)- np.percentile(Temp_D, 25))"
   ]
  },
  {
   "cell_type": "code",
   "execution_count": null,
   "id": "1b5440a4",
   "metadata": {},
   "outputs": [],
   "source": []
  },
  {
   "cell_type": "markdown",
   "id": "e1ea387e",
   "metadata": {},
   "source": [
    "### Plot the distribution of December Temperature using Matplotlib\n",
    "- add title and create proper labels"
   ]
  },
  {
   "cell_type": "code",
   "execution_count": 24,
   "id": "890595ec",
   "metadata": {},
   "outputs": [
    {
     "data": {
      "image/png": "[encoded data removed]",
      "text/plain": [
       "<Figure size 432x288 with 1 Axes>"
      ]
     },
     "metadata": {
      "needs_background": "light"
     },
     "output_type": "display_data"
    }
   ],
   "source": [
    "import matplotlib.pyplot as plt\n",
    "plt.hist(Temp_D)\n",
    "plt.title('December temperature distribution')\n",
    "plt.xlabel('Temp (F)')\n",
    "plt.ylabel('Numbers')\n",
    "plt.show()"
   ]
  },
  {
   "cell_type": "markdown",
   "id": "d48f4063",
   "metadata": {},
   "source": [
    "### Convert the Temp_D to Celsius and store it to a variable names Temp_C. \n",
    "- Round off the result\n",
    "- Save it to a numpy file called DecemberTemp_Celsius"
   ]
  },
  {
   "cell_type": "code",
   "execution_count": 25,
   "id": "5e786c6e",
   "metadata": {},
   "outputs": [],
   "source": [
    "Temp_C=np.round(((Temp_D-32)/9)*5)"
   ]
  },
  {
   "cell_type": "code",
   "execution_count": 26,
   "id": "beb1f329",
   "metadata": {},
   "outputs": [
    {
     "data": {
      "text/plain": [
       "array([  7.,  10.,  -7.,  -9.,  -9.,  -8., -11.,  -6., -14.,  -5., -13.,\n",
       "        -7., -10.,  11., -11.,   0.,  14.,  -3.,   7.,  -4.,  -3.,  -8.,\n",
       "         9.,   2.,   2.,  -6.,  14., -12.,  -1.,  -1.,   9.])"
      ]
     },
     "execution_count": 26,
     "metadata": {},
     "output_type": "execute_result"
    }
   ],
   "source": [
    "Temp_C"
   ]
  },
  {
   "cell_type": "code",
   "execution_count": 27,
   "id": "8029c92f",
   "metadata": {},
   "outputs": [],
   "source": [
    "np.save(\"DecemberTemp_Celsius.npy\",Temp_C)"
   ]
  },
  {
   "cell_type": "code",
   "execution_count": null,
   "id": "ed4da1d7",
   "metadata": {},
   "outputs": [],
   "source": []
  },
  {
   "cell_type": "code",
   "execution_count": null,
   "id": "3f6a3828",
   "metadata": {},
   "outputs": [],
   "source": []
  }
 ],
 "metadata": {
  "kernelspec": {
   "display_name": "Python 3 (ipykernel)",
   "language": "python",
   "name": "python3"
  },
  "language_info": {
   "codemirror_mode": {
    "name": "ipython",
    "version": 3
   },
   "file_extension": ".py",
   "mimetype": "text/x-python",
   "name": "python",
   "nbconvert_exporter": "python",
   "pygments_lexer": "ipython3",
   "version": "3.9.12"
  }
 },
 "nbformat": 4,
 "nbformat_minor": 5
}
